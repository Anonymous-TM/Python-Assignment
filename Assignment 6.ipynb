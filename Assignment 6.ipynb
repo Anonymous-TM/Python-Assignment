{
 "cells": [
  {
   "cell_type": "markdown",
   "metadata": {},
   "source": [
    "# OBJECT ORIENTED PROGRAMMING:\n",
    "###                                                                                          As the name suggests, Object-Oriented Programming or OOPs refers to languages that uses objects in programming. Object-oriented programming aims to implement real-world entities like inheritance, hiding, polymorphism etc in programming. The main aim of OOP is to bind together the data and the functions that operate on them so that no other part of the code can access this data except that function."
   ]
  },
  {
   "cell_type": "markdown",
   "metadata": {},
   "source": [
    "# BENIFITS OF OOP:\n",
    "###                                          Modularity for easier troubleshooting. Something has gone wrong, and you have no idea where to look.\n",
    "### Reuse of code through inheritance.\n",
    "### Flexibility through polymorphism.\n",
    "### Effective problem solving."
   ]
  },
  {
   "cell_type": "markdown",
   "metadata": {},
   "source": [
    "# Difference between  Function And Methods:\n",
    "###                                                                                                                          A method in python is somewhat similar to a function, except it is associated with object/classes. Methods in python are very similar to functions except for two major differences. The method is implicitly used for an object for which it is called. The method is accessible to data that is contained within the class.\n",
    "\n",
    "### Unlike a function, methods are called on an object. Like in our example above we call our method .i.e. “my_method” on the object “cat” whereas the function “sum” is called without any object. Also, because the method is called on an object, it can access that data within it.\n",
    "\n",
    "### Unlike method which can alter the object’s state, python function doesn’t do this and normally operates on it."
   ]
  },
  {
   "cell_type": "markdown",
   "metadata": {},
   "source": [
    "# Class:\n",
    "###    A class is a template definition of the method s and variable s in a particular kind of object . Thus, an object is a specific instance of a class; it contains real values instead of variables."
   ]
  },
  {
   "cell_type": "markdown",
   "metadata": {},
   "source": [
    "# Object:\n",
    "###  Objects are the things you think about first in designing a program and they are also the units of code that are eventually derived from the process."
   ]
  },
  {
   "cell_type": "markdown",
   "metadata": {},
   "source": [
    "# Attribute:\n",
    "###   Classes and objects have attributes. Attributes are data stored inside a class or instance and represent the state or quality of the class or instance."
   ]
  },
  {
   "cell_type": "markdown",
   "metadata": {},
   "source": [
    "# Behaviour:\n",
    "### A class's behavior determines how an instance of that class operates."
   ]
  },
  {
   "cell_type": "code",
   "execution_count": 3,
   "metadata": {},
   "outputs": [
    {
     "name": "stdout",
     "output_type": "stream",
     "text": [
      "\tCAR 1:\n",
      "\n",
      "Name: Bugatti Veryon\n",
      "Gas: Petrol\n",
      "Colour: Black & Orange\n",
      "Price: Rs. 1.7–3 Crore\n",
      "Engine: 7993 cc\n",
      "\n",
      "\tCAR 2:\n",
      "\n",
      "Name: Passo\n",
      "Gas: Petrol\n",
      "Colour: Green\n",
      "Price: Rs. 7-10 lakh\n",
      "Engine: 850 cc\n",
      "\n",
      "\tCAR 3:\n",
      "\n",
      "Name: Tesla Truck\n",
      "Gas: Diesel\n",
      "Colour: Grey\n",
      "Price: Rs. 40-45 Lakh\n",
      "Engine: 2200 cc\n",
      "\n",
      "\tCAR 4:\n",
      "\n",
      "Name: Bugatti Keryon\n",
      "Gas: Petrol\n",
      "Colour: Red\n",
      "Price: Rs. 2-4 Crore\n",
      "Engine: 8000 cc\n",
      "\n",
      "\tCAR 5:\n",
      "\n",
      "Name: Vezel\n",
      "Gas: Petrol\n",
      "Colour: Grey\n",
      "Price: Rs. 35-40 Lakh\n",
      "Engine: 2000 cc\n"
     ]
    }
   ],
   "source": [
    "class Car():\n",
    "    def __init__(beast,name,gas,colour):\n",
    "        beast.name=name\n",
    "        beast.gas=gas\n",
    "        beast.colour=colour\n",
    "        beast.price='Rs. 1.7–3 Crore'\n",
    "        beast.engine='7993 cc'\n",
    "Mycar1 = Car('Bugatti Veryon','Petrol','Black & Orange')\n",
    "print(\"\\tCAR 1:\\n\\nName: {}\\nGas: {}\\nColour: {}\\nPrice: {}\\nEngine: {}\".format(Mycar1.name,Mycar1.gas,Mycar1.colour,Mycar1.price,Mycar1.engine))\n",
    "\n",
    "Mycar2= Car('Passo','Petrol','Green')\n",
    "Mycar2.price='Rs. 7-10 lakh'\n",
    "Mycar2.engine='850 cc'\n",
    "print(\"\\n\\tCAR 2:\\n\\nName: {}\\nGas: {}\\nColour: {}\\nPrice: {}\\nEngine: {}\".format(Mycar2.name,Mycar2.gas,Mycar2.colour,Mycar2.price,Mycar2.engine))\n",
    "\n",
    "Mycar3= Car('Tesla Truck','Diesel','Grey')\n",
    "Mycar3.price='Rs. 40-45 Lakh'\n",
    "Mycar3.engine='2200 cc'\n",
    "print(\"\\n\\tCAR 3:\\n\\nName: {}\\nGas: {}\\nColour: {}\\nPrice: {}\\nEngine: {}\".format(Mycar3.name,Mycar3.gas,Mycar3.colour,Mycar3.price,Mycar3.engine))\n",
    "\n",
    "Mycar4= Car('Bugatti Keryon','Petrol','Red')\n",
    "Mycar4.price='Rs. 2-4 Crore'\n",
    "Mycar4.engine='8000 cc'\n",
    "print(\"\\n\\tCAR 4:\\n\\nName: {}\\nGas: {}\\nColour: {}\\nPrice: {}\\nEngine: {}\".format(Mycar4.name,Mycar4.gas,Mycar4.colour,Mycar4.price,Mycar4.engine))\n",
    "\n",
    "Mycar5= Car('Vezel','Petrol','Grey')\n",
    "Mycar5.price='Rs. 35-40 Lakh'\n",
    "Mycar5.engine='2000 cc'\n",
    "print(\"\\n\\tCAR 5:\\n\\nName: {}\\nGas: {}\\nColour: {}\\nPrice: {}\\nEngine: {}\".format(Mycar5.name,Mycar5.gas,Mycar5.colour,Mycar5.price,Mycar5.engine))"
   ]
  },
  {
   "cell_type": "code",
   "execution_count": null,
   "metadata": {},
   "outputs": [],
   "source": []
  }
 ],
 "metadata": {
  "kernelspec": {
   "display_name": "Python 3",
   "language": "python",
   "name": "python3"
  },
  "language_info": {
   "codemirror_mode": {
    "name": "ipython",
    "version": 3
   },
   "file_extension": ".py",
   "mimetype": "text/x-python",
   "name": "python",
   "nbconvert_exporter": "python",
   "pygments_lexer": "ipython3",
   "version": "3.7.4"
  }
 },
 "nbformat": 4,
 "nbformat_minor": 2
}
