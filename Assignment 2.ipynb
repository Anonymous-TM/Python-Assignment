{
 "cells": [
  {
   "cell_type": "code",
   "execution_count": 1,
   "metadata": {},
   "outputs": [
    {
     "name": "stdout",
     "output_type": "stream",
     "text": [
      "Enter first subject marks= 63\n",
      "Enter second subject marks= 82\n",
      "Enter third subject marks= 66\n",
      "Enter forth subject marks= 67\n",
      "Enter fifth subject marks= 55\n",
      "Total Marks=  333\n",
      "Percentage=  66.60000000000001\n",
      "Grade= B\n"
     ]
    }
   ],
   "source": [
    "first=input(\"Enter first subject marks= \")\n",
    "second=input(\"Enter second subject marks= \")\n",
    "third=input(\"Enter third subject marks= \")\n",
    "forth=input(\"Enter forth subject marks= \")\n",
    "fifth=input(\"Enter fifth subject marks= \")\n",
    "total=int (first)+int (second)+int (third)+int (forth)+int (fifth)\n",
    "print(\"Total Marks= \",total)\n",
    "per=(total/500)*100\n",
    "print(\"Percentage= \",per)\n",
    "if per>=80:\n",
    " print(\"Grade= A+\")\n",
    "elif per>=70 and per<80:\n",
    " print(\"Grade= A\")\n",
    "elif per>=60 and per<70:\n",
    " print(\"Grade= B\")\n",
    "elif per>=50 and per<60:\n",
    " print(\"Grade= C\")\n",
    "elif per>=40 and pet<50:\n",
    " print(\"Grade= D\")\n",
    "else:\n",
    " print(\"Fail\")"
   ]
  },
  {
   "cell_type": "code",
   "execution_count": 2,
   "metadata": {},
   "outputs": [
    {
     "name": "stdout",
     "output_type": "stream",
     "text": [
      "Enter Your Number= 43\n",
      "Odd Number\n"
     ]
    }
   ],
   "source": [
    "num=input(\"Enter Your Number= \")\n",
    "mod= int(num) % 2\n",
    "if mod>0:\n",
    "    print(\"Odd Number\")\n",
    "else:\n",
    "    print(\"Even Number\")"
   ]
  },
  {
   "cell_type": "code",
   "execution_count": 3,
   "metadata": {},
   "outputs": [
    {
     "name": "stdout",
     "output_type": "stream",
     "text": [
      "Length of list=  8\n"
     ]
    }
   ],
   "source": [
    "a=[2,6,12,18,20,24,26,28]\n",
    "print(\"Length of list= \",len (a))"
   ]
  },
  {
   "cell_type": "code",
   "execution_count": 4,
   "metadata": {},
   "outputs": [
    {
     "name": "stdout",
     "output_type": "stream",
     "text": [
      "53\n"
     ]
    }
   ],
   "source": [
    "a=[23,22,6,2,\"Anonymous\",\"TM\"]\n",
    "arr=a[0]+a[1]+a[2]+a[3]\n",
    "print(arr)"
   ]
  },
  {
   "cell_type": "code",
   "execution_count": 5,
   "metadata": {},
   "outputs": [
    {
     "name": "stdout",
     "output_type": "stream",
     "text": [
      "Largest number in list=  99\n"
     ]
    }
   ],
   "source": [
    "list=[4,20,55,78,99,14,22]\n",
    "print(\"Largest number in list= \",max(list))"
   ]
  },
  {
   "cell_type": "code",
   "execution_count": 6,
   "metadata": {},
   "outputs": [
    {
     "name": "stdout",
     "output_type": "stream",
     "text": [
      "[1]\n",
      "[1, 1]\n",
      "[1, 1, 2]\n",
      "[1, 1, 2, 3]\n"
     ]
    }
   ],
   "source": [
    "list=[1,1,2,3,5,8,13,21,34,55,89]\n",
    "new=[]\n",
    "for item in list:\n",
    "    if item <5:\n",
    "        new.append(item)\n",
    "        print(new)"
   ]
  },
  {
   "cell_type": "code",
   "execution_count": 7,
   "metadata": {},
   "outputs": [
    {
     "name": "stdout",
     "output_type": "stream",
     "text": [
      "1\n",
      "1\n",
      "2\n",
      "3\n"
     ]
    }
   ],
   "source": [
    "a = [1, 1, 2, 3, 5, 8, 13, 21, 34, 55, 89]\n",
    "for i in a:\n",
    "    if i < 5:\n",
    "        print (i)"
   ]
  },
  {
   "cell_type": "code",
   "execution_count": null,
   "metadata": {},
   "outputs": [],
   "source": []
  }
 ],
 "metadata": {
  "kernelspec": {
   "display_name": "Python 3",
   "language": "python",
   "name": "python3"
  },
  "language_info": {
   "codemirror_mode": {
    "name": "ipython",
    "version": 3
   },
   "file_extension": ".py",
   "mimetype": "text/x-python",
   "name": "python",
   "nbconvert_exporter": "python",
   "pygments_lexer": "ipython3",
   "version": "3.7.4"
  }
 },
 "nbformat": 4,
 "nbformat_minor": 2
}
